#  Project Scope Task Management App
# This code provides a console-based task management application with the following features:
   # Add, view, update, and delete tasks.
   # Load tasks from and save tasks to a text file for persistence.
   # Input validation for date format and task numbers.
   # Enhanced user interface with a clear menu display.
   # Modular functions for each task operation.
   # Main function to orchestrate the task management process.
   # menu option (6. Test application) that calls the test_application() function when selected. 
   # This allows users to verify if the application is functioning correctly



import os
import datetime

# Function to load tasks from a file
def load_tasks():
    """Load tasks from a file."""
    tasks = []

    if os.path.exists("tasks.txt"):
        with open("tasks.txt", "r") as file:
            for line in file:
                task = line.strip().split(",")
                tasks.append(task)
    
    return tasks

# Function to save tasks to a file
def save_tasks(tasks):
    """Save tasks to a file."""
    with open("tasks.txt", "w") as file:
        for task in tasks:
            file.write(",".join(task) + "\n")

# Function to display the menu
def display_menu():
    """Display the menu options for the user."""
    print("1. Add a task")
    print("2. View tasks")
    print("3. Update a task")
    print("4. Delete a task")
    print("5. Exit")
    print("6. Test application")

# Function to add a new task
def add_task(tasks):
    """Allow the user to add a new task."""
    title = input("Enter task title: ")
    description = input("Enter task description: ")
    due_date = input("Enter due date (YYYY-MM-DD): ")

    try:
        datetime.datetime.strptime(due_date, "%Y-%m-%d")
    except ValueError:
        print("Invalid date format. Please use YYYY-MM-DD.")
        return

    tasks.append([title, description, due_date])
    save_tasks(tasks)
    print("Task added successfully!")

# Function to view all tasks
def view_tasks(tasks):
    """Display all tasks."""
    if not tasks:
        print("No tasks available.")
    else:
        for i, task in enumerate(tasks):
            print(f"{i + 1}. Title: {task[0]}, Description: {task[1]}, Due Date: {task[2]}")

# Function to update a task
def update_task(tasks):
    """Allow the user to update a task."""
    view_tasks(tasks)
    task_id = input("Enter the task number to update: ")

    try:
        task_id = int(task_id)
        if 1 <= task_id <= len(tasks):
            title = input("Enter updated task title: ")
            description = input("Enter updated task description: ")
            due_date = input("Enter updated due date (YYYY-MM-DD): ")

            try:
                datetime.datetime.strptime(due_date, "%Y-%m-%d")
            except ValueError:
                print("Invalid date format. Please use YYYY-MM-DD.")
                return

            tasks[task_id - 1] = [title, description, due_date]
            save_tasks(tasks)
            print("Task updated successfully!")
        else:
            print("Invalid task number.")
    except ValueError:
        print("Invalid input. Please enter a valid task number.")

# Function to delete a task
def delete_task(tasks):
    """Allow the user to delete a task."""
    view_tasks(tasks)
    task_id = input("Enter the task number to delete: ")

    try:
        task_id = int(task_id)
        if 1 <= task_id <= len(tasks):
            del tasks[task_id - 1]
            save_tasks(tasks)
            print("Task deleted successfully!")
        else:
            print("Invalid task number.")
    except ValueError:
        print("Invalid input. Please enter a valid task number.")

# Function to test the task management application
def test_application():
    """Test the task management application."""
    tasks = load_tasks()

    tasks.append(["Test Task", "This is a test task", "2024-12-31"])
    save_tasks(tasks)

    print("All tasks after adding a test task:")
    view_tasks(tasks)

    tasks[0] = ["Updated Test Task", "This is an updated test task", "2024-12-30"]
    save_tasks(tasks)

    print("\nAll tasks after updating the test task:")
    view_tasks(tasks)

    del tasks[0]
    save_tasks(tasks)

    print("\nAll tasks after deleting the test task:")
    view_tasks(tasks)

# Main function
def main():
    """Main function to run the task manager."""
    tasks = load_tasks()

    while True:
        display_menu()
        choice = input("Enter your choice: ")

        if choice == "1":
            add_task(tasks)
        elif choice == "2":
            view_tasks(tasks)
        elif choice == "3":
            update_task(tasks)
        elif choice == "4":
            delete_task(tasks)
        elif choice == "5":
            print("Exiting the task manager.")
            break
        elif choice == "6":
            test_application()
        else:
            print("Invalid choice. Please enter a number between 1 and 6.")

if __name__ == "__main__":
    main()
